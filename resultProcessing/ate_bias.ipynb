{
 "cells": [
  {
   "cell_type": "code",
   "execution_count": null,
   "metadata": {},
   "outputs": [],
   "source": [
    "import numpy as np\n",
    "import matplotlib.pyplot as plt"
   ]
  },
  {
   "cell_type": "code",
   "execution_count": null,
   "metadata": {},
   "outputs": [],
   "source": [
    "# import .npy data from results/ folder\n",
    "basic_dir = ''\n",
    "tau_full = np.load(basic_dir+'result/begin_eg/tau_bias_full_bernoulli.npy')\n",
    "tau_partial = np.load(basic_dir+'result/begin_eg/tau_bias_partial_bernoulli.npy')\n",
    "tau_list = [ -8, -6, -4, -2, -1, 0, 1, 2, 4, 6, 8]\n",
    "tau_list = [element * 1 for element in tau_list]\n",
    "num_tau_values = len(tau_list)\n",
    "\n",
    "tau_full = np.array(tau_full, dtype=object)  # dtype=object for loading lists of different lengths\n",
    "tau_partial = np.array(tau_partial, dtype=object)\n",
    "\n",
    "# Calculate variance for each tau value\n",
    "variance_tau_full = [np.var(tau_full[i]) for i in range(num_tau_values)]\n",
    "variance_tau_partial = [np.var(tau_partial[i]) for i in range(num_tau_values)]\n",
    "\n",
    "tau_bias_full = [np.mean(tau_full[i])-tau_list[i] for i in range(num_tau_values)]\n",
    "tau_bias_partial = [np.mean(tau_partial[i])-tau_list[i] for i in range(num_tau_values)]"
   ]
  },
  {
   "cell_type": "code",
   "execution_count": null,
   "metadata": {},
   "outputs": [],
   "source": [
    "font = 14\n",
    "plt.figure(dpi=150, figsize=(8, 5))\n",
    "\n",
    "plt.axhline(0, color='grey', linestyle='--', linewidth=1)  # Horizontal line at y=0\n",
    "plt.plot(tau_list, tau_bias_full, label='Full', color='lightcoral', marker='o')\n",
    "plt.plot(tau_list, tau_bias_partial, label='Partial', color='green', marker='o')\n",
    "\n",
    "# Plotting variance as error bars\n",
    "std_full = np.sqrt(variance_tau_full)  # Standard deviation is sqrt of variance\n",
    "std_partial = np.sqrt(variance_tau_partial)\n",
    "\n",
    "plt.errorbar(tau_list, tau_bias_partial, yerr=std_partial, fmt='o', color='green', alpha=0.5)\n",
    "plt.errorbar(tau_list, tau_bias_full, yerr=std_full, fmt='o', color='lightcoral', alpha=0.5)\n",
    "\n",
    "plt.xticks(ticks=tau_list)\n",
    "plt.xlabel('True Treatment Effect', fontsize=font)\n",
    "plt.ylabel('Bias', fontsize=font)\n",
    "\n",
    "plt.grid(False, axis='x')  # Disable vertical grid lines\n",
    "plt.grid(True, axis='y', alpha=0.3)  # Enable horizontal grid lines\n",
    "\n",
    "plt.legend(loc='upper right', fontsize=font - 2)\n",
    "plt.title('Bias on Estimating ATE: Full Regularized OLS vs. Partial Regularized OLS', fontsize=font)\n",
    "\n",
    "plt.show()"
   ]
  }
 ],
 "metadata": {
  "language_info": {
   "name": "python"
  }
 },
 "nbformat": 4,
 "nbformat_minor": 2
}
