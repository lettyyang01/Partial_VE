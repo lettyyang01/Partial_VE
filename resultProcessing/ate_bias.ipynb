{
 "cells": [
  {
   "cell_type": "code",
   "execution_count": null,
   "metadata": {},
   "outputs": [],
   "source": [
    "import numpy as np\n",
    "import matplotlib.pyplot as plt"
   ]
  },
  {
   "cell_type": "code",
   "execution_count": null,
   "metadata": {},
   "outputs": [],
   "source": [
    "# import .npy data from results/ folder\n",
    "tau_bias_full = np.load('results/begin_eg/tau_bias_full.npy')\n",
    "tau_bias_partial = np.load('results/begin_eg/tau_bias_partial.npy')\n",
    "tau_list = [-5, -2, -1, 0, 1, 2, 5, 7, 10]"
   ]
  },
  {
   "cell_type": "code",
   "execution_count": null,
   "metadata": {},
   "outputs": [],
   "source": [
    "plt.plot(tau_list, tau_bias_full, label='full', color='green')\n",
    "plt.plot(tau_list, tau_bias_partial, label='partial', color='lightcoral')\n",
    "plt.ylabel('Bias ($\\widehat{t} - t$)', fontsize=8)\n",
    "std_full = np.std(tau_bias_full, axis=0)\n",
    "std_partial = np.std(tau_bias_partial, axis=0)\n",
    "plt.fill_between(tau_list, tau_bias_full - std_full, tau_bias_full + std_full, color='green', alpha=0.35)\n",
    "plt.fill_between(tau_list, tau_bias_partial - std_partial, tau_bias_partial + std_partial, color='lightcoral', alpha=0.35)\n",
    "plt.legend(loc='upper left',fontsize=9)\n",
    "plt.grid(True, alpha=0.3)"
   ]
  }
 ],
 "metadata": {
  "language_info": {
   "name": "python"
  }
 },
 "nbformat": 4,
 "nbformat_minor": 2
}
